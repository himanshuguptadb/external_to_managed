{
 "cells": [
  {
   "cell_type": "code",
   "execution_count": 0,
   "metadata": {
    "application/vnd.databricks.v1+cell": {
     "cellMetadata": {
      "byteLimit": 2048000,
      "rowLimit": 10000
     },
     "inputWidgets": {},
     "nuid": "c0d56772-56e4-44a2-8af2-3c72e6b72b90",
     "showTitle": false,
     "tableResultSettingsMap": {},
     "title": ""
    }
   },
   "outputs": [],
   "source": [
    "from databricks.sdk import WorkspaceClient\n",
    "\n",
    "# Initialize the WorkspaceClient\n",
    "workspace_client = WorkspaceClient()"
   ]
  },
  {
   "cell_type": "code",
   "execution_count": 0,
   "metadata": {
    "application/vnd.databricks.v1+cell": {
     "cellMetadata": {
      "byteLimit": 2048000,
      "rowLimit": 10000
     },
     "inputWidgets": {},
     "nuid": "24dca43f-75bf-4ca3-8a72-06d9e199adbf",
     "showTitle": false,
     "tableResultSettingsMap": {},
     "title": ""
    }
   },
   "outputs": [],
   "source": [
    "dbutils.widgets.text(\"catalog_name\", \"\", \"Catalog Name\")\n",
    "dbutils.widgets.text(\"schema_name\", \"\", \"Schema Name\")\n",
    "dbutils.widgets.text(\"schema_root_location\", \"\", \"Schema Location\")\n",
    "dbutils.widgets.text(\"dry_run\", \"\", \"Dry Run\")"
   ]
  },
  {
   "cell_type": "code",
   "execution_count": 0,
   "metadata": {
    "application/vnd.databricks.v1+cell": {
     "cellMetadata": {
      "byteLimit": 2048000,
      "rowLimit": 10000
     },
     "inputWidgets": {},
     "nuid": "bd843583-d292-4a19-8098-8d5774325b7d",
     "showTitle": false,
     "tableResultSettingsMap": {},
     "title": ""
    }
   },
   "outputs": [],
   "source": [
    "catalog_name = dbutils.widgets.get(\"catalog_name\")\n",
    "schema_name = dbutils.widgets.get(\"schema_name\")\n",
    "schema_root_location = dbutils.widgets.get(\"schema_root_location\")\n",
    "dry_run = dbutils.widgets.get(\"dry_run\")\n",
    "backup_schema_name = f\"{schema_name}_ext_mgd\""
   ]
  },
  {
   "cell_type": "code",
   "execution_count": 0,
   "metadata": {
    "application/vnd.databricks.v1+cell": {
     "cellMetadata": {
      "byteLimit": 2048000,
      "rowLimit": 10000
     },
     "inputWidgets": {},
     "nuid": "9c178c6c-288f-4ce5-966e-01ac8d4188d1",
     "showTitle": false,
     "tableResultSettingsMap": {},
     "title": ""
    }
   },
   "outputs": [],
   "source": [
    "%run ./utils"
   ]
  },
  {
   "cell_type": "code",
   "execution_count": 0,
   "metadata": {
    "application/vnd.databricks.v1+cell": {
     "cellMetadata": {
      "byteLimit": 2048000,
      "rowLimit": 10000
     },
     "inputWidgets": {},
     "nuid": "f24bf8dd-32d5-4547-bfed-4b85f385e854",
     "showTitle": false,
     "tableResultSettingsMap": {},
     "title": ""
    }
   },
   "outputs": [],
   "source": [
    "import pandas as pd\n",
    "\n",
    "external_schema_summary = pd.DataFrame(columns=[\"id\",\"object_category\", \"object_sub_category\", \"count\"])"
   ]
  },
  {
   "cell_type": "code",
   "execution_count": 0,
   "metadata": {
    "application/vnd.databricks.v1+cell": {
     "cellMetadata": {
      "byteLimit": 2048000,
      "rowLimit": 10000
     },
     "inputWidgets": {},
     "nuid": "ff5f95e8-1b15-46b7-ba5a-266a0d535309",
     "showTitle": false,
     "tableResultSettingsMap": {},
     "title": ""
    }
   },
   "outputs": [],
   "source": [
    "#get schema owner and comment\n",
    "external_schema_details, external_schema_summary = get_schemata(catalog_name,schema_name,external_schema_summary)\n",
    "\n",
    "#get external schema location. Used later to check if it is already a managed schema\n",
    "external_schema_location, external_schema_summary = get_schema_location(catalog_name,schema_name, external_schema_summary)\n",
    "\n",
    "#get schema level tags\n",
    "external_schema_tags, external_schema_summary = get_schema_tags(catalog_name,schema_name, external_schema_summary)\n",
    "\n",
    "#get grants at schema level\n",
    "external_schema_grants, external_schema_summary = get_schema_grants(catalog_name,schema_name, external_schema_summary)\n",
    "\n",
    "#get unsupported tables name, description, type, format and owner\n",
    "external_unsupported_tables, external_schema_summary = get_unsupported_tables(catalog_name,schema_name, external_schema_summary)\n",
    "\n",
    "#get supported delta tables name, description, type, format and owner\n",
    "external_tables, external_schema_summary = get_supported_tables(catalog_name,schema_name, external_schema_summary)\n",
    "\n",
    "#get view name, definition, owner and comment\n",
    "external_views, external_schema_summary = get_views(catalog_name,schema_name, external_schema_summary )\n",
    "\n",
    "#get tables and views tags\n",
    "external_tables_views_tags, external_schema_summary = get_tables_views_tags(catalog_name,schema_name, external_schema_summary, external_tables, external_views )\n",
    "\n",
    "#get tables and views columns comments\n",
    "external_table_view_columns_comment, external_schema_summary = get_table_view_columns_comment(catalog_name,schema_name, external_schema_summary, external_tables, external_views )\n",
    "\n",
    "#get tables and views columns tags\n",
    "external_table_view_columns_tags, external_schema_summary = get_table_view_columns_tags(catalog_name,schema_name, external_schema_summary, external_tables, external_views )\n",
    "\n",
    "#get tables and views constraints\n",
    "external_table_view_constraints, external_schema_summary = get_table_view_constraints(catalog_name,schema_name, external_schema_summary, external_tables )\n",
    "\n",
    "#get tables and views grants\n",
    "external_table_view_grants, external_schema_summary = get_table_view_grants(catalog_name,schema_name, external_schema_summary, external_tables, external_views )\n",
    "\n",
    "#get unsupported volumes name, owner, location, description\n",
    "external_unsupported_volumes, external_schema_summary = get_unsupported_volumes(catalog_name,schema_name,external_schema_summary)\n",
    "\n",
    "#get supported volumes name, owner, location, description\n",
    "external_volumes, external_schema_summary = get_supported_volumes(catalog_name,schema_name, external_schema_summary)\n",
    "\n",
    "#get supported volumes tags\n",
    "external_volume_tags, external_schema_summary = get_volume_tags(catalog_name,schema_name, external_schema_summary, external_volumes)\n",
    "\n",
    "#get supported volumes grants\n",
    "external_volume_grants, external_schema_summary = get_volume_grants(catalog_name,schema_name, external_schema_summary, external_volumes)\n",
    "\n",
    "#get unsupported functions name, owner, location, description\n",
    "external_unsupported_functions, external_schema_summary = get_unsupported_functions(catalog_name,schema_name,external_schema_summary)\n",
    "\n",
    "external_schema_summary"
   ]
  },
  {
   "cell_type": "code",
   "execution_count": 0,
   "metadata": {
    "application/vnd.databricks.v1+cell": {
     "cellMetadata": {
      "byteLimit": 2048000,
      "rowLimit": 10000
     },
     "inputWidgets": {},
     "nuid": "991161ec-8f6a-4803-be7f-017bf67544cd",
     "showTitle": false,
     "tableResultSettingsMap": {},
     "title": ""
    }
   },
   "outputs": [],
   "source": [
    "if external_unsupported_volumes.count() > 0 or external_unsupported_tables.count() > 0 or external_unsupported_functions.count() > 0 or external_schema_location.filter(\n",
    "    external_schema_location['database_description_value'] != \"\").count() > 0:\n",
    "  print(\"Schema has unsupported tables, volumes, functions or schema is already managed. Please fix them before proceeding\")\n",
    "  display(external_unsupported_volumes)\n",
    "  display(external_unsupported_tables)\n",
    "  display(external_unsupported_functions)\n",
    "  dbutils.exit(\"1\")\n",
    "else:\n",
    "  print(\"Schema has no unsupported tables, volumes, functions and schema is not managed. Proceeding with migration\")"
   ]
  },
  {
   "cell_type": "code",
   "execution_count": 0,
   "metadata": {
    "application/vnd.databricks.v1+cell": {
     "cellMetadata": {
      "byteLimit": 2048000,
      "rowLimit": 10000
     },
     "inputWidgets": {},
     "nuid": "8b327e51-c4b8-4222-8f31-20ae5c9ed5c1",
     "showTitle": false,
     "tableResultSettingsMap": {},
     "title": ""
    }
   },
   "outputs": [],
   "source": [
    "#generate schema level scripts\n",
    "schema_scripts = generate_schema_scripts(catalog_name, schema_name, schema_root_location, external_schema_tags, external_schema_grants, external_schema_details)\n",
    "#generate table view level scripts\n",
    "table_view_scripts = generate_table_view_scripts(catalog_name, schema_name,backup_schema_name, external_tables, external_views, external_tables_views_tags, external_table_view_columns_comment, external_table_view_columns_tags, external_table_view_grants)\n",
    "#generate volume scripts\n",
    "volume_scripts = generate_volume_scripts(catalog_name, schema_name,backup_schema_name, external_volumes, external_volume_tags, external_volume_grants)\n",
    "#source schema reference count\n",
    "external_data_count = data_count(catalog_name, schema_name, external_tables, external_views, external_volumes)"
   ]
  },
  {
   "cell_type": "code",
   "execution_count": 0,
   "metadata": {
    "application/vnd.databricks.v1+cell": {
     "cellMetadata": {
      "byteLimit": 2048000,
      "rowLimit": 10000
     },
     "inputWidgets": {},
     "nuid": "904a7aae-1b72-41b3-8347-decdfd5705a8",
     "showTitle": false,
     "tableResultSettingsMap": {},
     "title": ""
    }
   },
   "outputs": [],
   "source": [
    "schema_scripts"
   ]
  },
  {
   "cell_type": "code",
   "execution_count": 0,
   "metadata": {
    "application/vnd.databricks.v1+cell": {
     "cellMetadata": {
      "byteLimit": 2048000,
      "rowLimit": 10000
     },
     "inputWidgets": {},
     "nuid": "e0857cea-93d6-4e01-8c3d-db94ede9b52c",
     "showTitle": false,
     "tableResultSettingsMap": {},
     "title": ""
    }
   },
   "outputs": [],
   "source": [
    "table_view_scripts"
   ]
  },
  {
   "cell_type": "code",
   "execution_count": 0,
   "metadata": {
    "application/vnd.databricks.v1+cell": {
     "cellMetadata": {
      "byteLimit": 2048000,
      "rowLimit": 10000
     },
     "inputWidgets": {},
     "nuid": "ef8d7c06-2492-400a-acf5-1d4595aeb65b",
     "showTitle": false,
     "tableResultSettingsMap": {},
     "title": ""
    }
   },
   "outputs": [],
   "source": [
    "volume_scripts"
   ]
  },
  {
   "cell_type": "code",
   "execution_count": 0,
   "metadata": {
    "application/vnd.databricks.v1+cell": {
     "cellMetadata": {
      "byteLimit": 2048000,
      "rowLimit": 10000
     },
     "inputWidgets": {},
     "nuid": "8bc1e5d0-890d-42e7-a64f-c77470b379dd",
     "showTitle": false,
     "tableResultSettingsMap": {},
     "title": ""
    }
   },
   "outputs": [],
   "source": [
    "external_data_count"
   ]
  },
  {
   "cell_type": "code",
   "execution_count": 0,
   "metadata": {
    "application/vnd.databricks.v1+cell": {
     "cellMetadata": {
      "byteLimit": 2048000,
      "rowLimit": 10000
     },
     "inputWidgets": {},
     "nuid": "edbe408f-dec1-4179-b9e5-f9deaefa1752",
     "showTitle": false,
     "tableResultSettingsMap": {},
     "title": ""
    }
   },
   "outputs": [],
   "source": [
    "if dry_run == \"N\":\n",
    "  print(\"Will use workspace client to rename the schema\")\n",
    "  # Rename the schema\n",
    "  workspace_client.schemas.update(full_name=f\"{catalog_name}.{schema_name}\", new_name=f\"{backup_schema_name}\")\n",
    "  for schema in schema_scripts:\n",
    "    print(schema)\n",
    "    spark.sql(schema)\n",
    "  for table_views in table_view_scripts:\n",
    "    print(table_views)\n",
    "    spark.sql(table_views)\n",
    "  for volume in volume_scripts:\n",
    "    print(volume)\n",
    "    spark.sql(volume)\n",
    "else:\n",
    "  dbutils.notebooks.exit(\"1\")"
   ]
  },
  {
   "cell_type": "code",
   "execution_count": 0,
   "metadata": {
    "application/vnd.databricks.v1+cell": {
     "cellMetadata": {
      "byteLimit": 2048000,
      "rowLimit": 10000
     },
     "inputWidgets": {},
     "nuid": "4564c1ad-5704-4946-8b80-97ec631cee73",
     "showTitle": false,
     "tableResultSettingsMap": {},
     "title": ""
    }
   },
   "outputs": [],
   "source": [
    "managed_schema_summary = pd.DataFrame(columns=[\"id\",\"object_category\", \"object_sub_category\", \"count\"])\n",
    "#get schema owner and comment\n",
    "managed_schema_details, managed_schema_summary = get_schemata(catalog_name,schema_name,managed_schema_summary)\n",
    "\n",
    "#get external schema location. Used later to check if it is already a managed schema\n",
    "managed_schema_location, managed_schema_summary = get_schema_location(catalog_name,schema_name, managed_schema_summary)\n",
    "\n",
    "#get schema level tags\n",
    "managed_schema_tags, managed_schema_summary = get_schema_tags(catalog_name,schema_name, managed_schema_summary)\n",
    "\n",
    "#get grants at schema level\n",
    "managed_schema_grants, managed_schema_summary = get_schema_grants(catalog_name,schema_name, managed_schema_summary)\n",
    "\n",
    "#get unsupported tables name, description, type, format and owner\n",
    "managed_unsupported_tables, managed_schema_summary = get_unsupported_tables(catalog_name,schema_name, managed_schema_summary)\n",
    "\n",
    "#get supported delta tables name, description, type, format and owner\n",
    "managed_tables, managed_schema_summary = get_supported_tables(catalog_name,schema_name, managed_schema_summary)\n",
    "\n",
    "#get view name, definition, owner and comment\n",
    "managed_views, managed_schema_summary = get_views(catalog_name,schema_name, managed_schema_summary )\n",
    "\n",
    "#get tables and views tags\n",
    "managed_tables_views_tags, managed_schema_summary = get_tables_views_tags(catalog_name,schema_name, managed_schema_summary, managed_tables, managed_views )\n",
    "\n",
    "#get tables and views columns comments\n",
    "managed_table_view_columns_comment, managed_schema_summary = get_table_view_columns_comment(catalog_name,schema_name, managed_schema_summary, managed_tables, managed_views )\n",
    "\n",
    "#get tables and views columns tags\n",
    "managed_table_view_columns_tags, managed_schema_summary = get_table_view_columns_tags(catalog_name,schema_name, managed_schema_summary, managed_tables, managed_views )\n",
    "\n",
    "#get tables and views constraints\n",
    "managed_table_view_constraints, managed_schema_summary = get_table_view_constraints(catalog_name,schema_name, managed_schema_summary, managed_tables )\n",
    "\n",
    "#get tables and views grants\n",
    "managed_table_view_grants, managed_schema_summary = get_table_view_grants(catalog_name,schema_name, managed_schema_summary, managed_tables, managed_views )\n",
    "\n",
    "#get unsupported volumes name, owner, location, description\n",
    "managed_unsupported_volumes, managed_schema_summary = get_unsupported_volumes(catalog_name,schema_name,managed_schema_summary)\n",
    "\n",
    "#get supported volumes name, owner, location, description\n",
    "managed_volumes, managed_schema_summary = get_supported_volumes(catalog_name,schema_name, managed_schema_summary)\n",
    "\n",
    "#get supported volumes tags\n",
    "managed_volume_tags, managed_schema_summary = get_volume_tags(catalog_name,schema_name, managed_schema_summary, managed_volumes)\n",
    "\n",
    "#get supported volumes grants\n",
    "managed_volume_grants, managed_schema_summary = get_volume_grants(catalog_name,schema_name, managed_schema_summary, managed_volumes)\n",
    "\n",
    "#get unsupported functions name, owner, location, description\n",
    "managed_unsupported_functions, managed_schema_summary = get_unsupported_functions(catalog_name,schema_name,managed_schema_summary)\n",
    "\n",
    "managed_data_count = data_count(catalog_name, schema_name, managed_tables, managed_views, managed_volumes)\n",
    "\n",
    "managed_schema_summary"
   ]
  },
  {
   "cell_type": "code",
   "execution_count": 0,
   "metadata": {
    "application/vnd.databricks.v1+cell": {
     "cellMetadata": {
      "byteLimit": 2048000,
      "rowLimit": 10000
     },
     "inputWidgets": {},
     "nuid": "3f50a329-4b69-440b-a5b2-3cd027aa9f1d",
     "showTitle": false,
     "tableResultSettingsMap": {},
     "title": ""
    }
   },
   "outputs": [],
   "source": [
    "external_schema_summary = add_prefix_to_columns(external_schema_summary, \"external_\")\n",
    "managed_schema_summary = add_prefix_to_columns(managed_schema_summary, \"managed_\")\n",
    "external_data_count = add_prefix_to_columns(external_data_count, \"external_\")\n",
    "managed_data_count = add_prefix_to_columns(managed_data_count, \"managed_\")\n"
   ]
  },
  {
   "cell_type": "code",
   "execution_count": 0,
   "metadata": {
    "application/vnd.databricks.v1+cell": {
     "cellMetadata": {
      "byteLimit": 2048000,
      "rowLimit": 10000
     },
     "inputWidgets": {},
     "nuid": "94ea0daf-ccc5-4906-b6dc-75cd96683f49",
     "showTitle": false,
     "tableResultSettingsMap": {},
     "title": ""
    }
   },
   "outputs": [],
   "source": [
    "external_schema_summary.set_index('external_id', inplace=True)\n",
    "managed_schema_summary.set_index('managed_id', inplace=True)\n",
    "\n",
    "schema_summary = external_schema_summary.join(managed_schema_summary, how=\"inner\")\n",
    "display(schema_summary)"
   ]
  },
  {
   "cell_type": "code",
   "execution_count": 0,
   "metadata": {
    "application/vnd.databricks.v1+cell": {
     "cellMetadata": {
      "byteLimit": 2048000,
      "rowLimit": 10000
     },
     "inputWidgets": {},
     "nuid": "af9cf7cd-f27f-4afb-8433-49eac9e8bf0b",
     "showTitle": false,
     "tableResultSettingsMap": {},
     "title": ""
    }
   },
   "outputs": [],
   "source": [
    "summary_data_count = external_data_count\n",
    "summary_data_count['managed_count'] = managed_data_count['managed_count']\n",
    "summary_data_count \n"
   ]
  }
 ],
 "metadata": {
  "application/vnd.databricks.v1+notebook": {
   "computePreferences": null,
   "dashboards": [],
   "environmentMetadata": {
    "base_environment": "",
    "environment_version": "2"
   },
   "inputWidgetPreferences": null,
   "language": "python",
   "notebookMetadata": {
    "mostRecentlyExecutedCommandWithImplicitDF": {
     "commandId": 2275659825220525,
     "dataframes": [
      "_sqldf"
     ]
    },
    "pythonIndentUnit": 2
   },
   "notebookName": "External to Managed",
   "widgets": {
    "catalog_name": {
     "currentValue": "himanshu_ext_mgd",
     "nuid": "aae19918-5687-4a52-88a3-53b56e26606e",
     "typedWidgetInfo": {
      "autoCreated": false,
      "defaultValue": "",
      "label": "Catalog Name",
      "name": "catalog_name",
      "options": {
       "widgetDisplayType": "Text",
       "validationRegex": null
      },
      "parameterDataType": "String"
     },
     "widgetInfo": {
      "widgetType": "text",
      "defaultValue": "",
      "label": "Catalog Name",
      "name": "catalog_name",
      "options": {
       "widgetType": "text",
       "autoCreated": null,
       "validationRegex": null
      }
     }
    },
    "dry_run": {
     "currentValue": "Y",
     "nuid": "07a740d2-aab5-4bcf-a38d-9411685667e3",
     "typedWidgetInfo": {
      "autoCreated": false,
      "defaultValue": "",
      "label": "Dry Run",
      "name": "dry_run",
      "options": {
       "widgetDisplayType": "Text",
       "validationRegex": null
      },
      "parameterDataType": "String"
     },
     "widgetInfo": {
      "widgetType": "text",
      "defaultValue": "",
      "label": "Dry Run",
      "name": "dry_run",
      "options": {
       "widgetType": "text",
       "autoCreated": null,
       "validationRegex": null
      }
     }
    },
    "schema_name": {
     "currentValue": "external_schema",
     "nuid": "b76ad467-a400-48e1-b3b4-47f6ea09a074",
     "typedWidgetInfo": {
      "autoCreated": false,
      "defaultValue": "",
      "label": "Schema Name",
      "name": "schema_name",
      "options": {
       "widgetDisplayType": "Text",
       "validationRegex": null
      },
      "parameterDataType": "String"
     },
     "widgetInfo": {
      "widgetType": "text",
      "defaultValue": "",
      "label": "Schema Name",
      "name": "schema_name",
      "options": {
       "widgetType": "text",
       "autoCreated": null,
       "validationRegex": null
      }
     }
    },
    "schema_root_location": {
     "currentValue": "abfss://himanshu-test@oneenvadls.dfs.core.windows.net/managed_schema",
     "nuid": "a78e722a-9b49-4cb7-8314-41acadbedbd7",
     "typedWidgetInfo": {
      "autoCreated": false,
      "defaultValue": "",
      "label": "Schema Location",
      "name": "schema_root_location",
      "options": {
       "widgetDisplayType": "Text",
       "validationRegex": null
      },
      "parameterDataType": "String"
     },
     "widgetInfo": {
      "widgetType": "text",
      "defaultValue": "",
      "label": "Schema Location",
      "name": "schema_root_location",
      "options": {
       "widgetType": "text",
       "autoCreated": null,
       "validationRegex": null
      }
     }
    }
   }
  },
  "language_info": {
   "name": "python"
  }
 },
 "nbformat": 4,
 "nbformat_minor": 0
}
